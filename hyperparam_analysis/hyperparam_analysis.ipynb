{
 "cells": [
  {
   "cell_type": "code",
   "execution_count": null,
   "id": "20d390f0-b525-4331-a168-cc8cf7ecc1ec",
   "metadata": {},
   "outputs": [],
   "source": [
    "import pandas as pd\n",
    "import numpy as np\n",
    "import matplotlib.pyplot as plt\n",
    "import seaborn as sns\n",
    "from scipy.stats import mannwhitneyu as mwu\n",
    "import math\n",
    "\n"
   ]
  },
  {
   "cell_type": "code",
   "execution_count": null,
   "id": "0d0f4e4e-604a-44ce-b7ca-570e4f68449c",
   "metadata": {},
   "outputs": [],
   "source": [
    "dat = pd.read_csv('hyperparam_mura.csv')"
   ]
  },
  {
   "cell_type": "code",
   "execution_count": null,
   "id": "c7af7739-730b-43a3-902c-7cbdea1dd8a0",
   "metadata": {},
   "outputs": [],
   "source": [
    "arch = 'DenseNet121'\n",
    "dat_ = dat[dat['Architecture']==arch]\n",
    "\n",
    "x_size = 2\n",
    "y_size = 3\n",
    "fig, axs = plt.subplots(y_size,x_size, figsize=(7,7))\n",
    "fig.patch.set_facecolor('white')\n",
    "\n",
    "for i, h in enumerate(['Starting LR','Optimizer','Weight Decay','Mixup','Dropout']):\n",
    "  axs[math.floor(i/x_size),i%x_size].scatter(dat_[h], dat_['AUC Val'])\n",
    "  \n",
    "  dat_m = dat_.groupby(h).agg('mean').reset_index()\n",
    "  axs[math.floor(i/x_size),i%x_size].plot(dat_m[h], dat_m['AUC Val'], label='Δ = {:.4f}'.format(dat_m['AUC Val'].max() - dat_['AUC Val'].mean()))\n",
    "  axs[math.floor(i/x_size),i%x_size].legend()\n",
    "  \n",
    "  axs[math.floor(i/x_size),i%x_size].set_title(h)\n",
    "  \n",
    "plt.suptitle(arch)\n",
    "fig.tight_layout()\n",
    "plt.show()"
   ]
  },
  {
   "cell_type": "code",
   "execution_count": null,
   "id": "fb2f2643-4d6d-4489-9e37-3521f0805f52",
   "metadata": {},
   "outputs": [],
   "source": [
    "d = dat[dat['Architecture']=='DeiT'].sort_values('AUC Val', ascending=False).reset_index()\n",
    "\n",
    "fig = plt.figure()\n",
    "fig.patch.set_facecolor('white')\n",
    "plt.plot(d.index, d['AUC Val'])\n",
    "plt.title('DeiT')\n",
    "plt.ylabel('AUC Val')\n",
    "plt.xlabel('Model')\n",
    "plt.show()\n",
    "d[:32].to_csv('deit.csv')"
   ]
  },
  {
   "cell_type": "code",
   "execution_count": null,
   "id": "2ec658c9-f04a-4044-b7e7-48c9b93f3c13",
   "metadata": {},
   "outputs": [],
   "source": [
    "d = dat[dat['Architecture']=='DenseNet121'].sort_values('AUC Val', ascending=False).reset_index()\n",
    "\n",
    "fig = plt.figure()\n",
    "fig.patch.set_facecolor('white')\n",
    "plt.plot(d.index, d['AUC Val'])\n",
    "plt.title('DenseNet121')\n",
    "plt.ylabel('AUC Val')\n",
    "plt.xlabel('Model')\n",
    "plt.show()\n",
    "d[:32].to_csv('densenet.csv')"
   ]
  },
  {
   "cell_type": "code",
   "execution_count": null,
   "id": "f842a3ee-3cd1-4f8d-a157-808e028f2aa8",
   "metadata": {},
   "outputs": [],
   "source": []
  }
 ],
 "metadata": {
  "kernelspec": {
   "display_name": "Python 3",
   "language": "python",
   "name": "python3"
  },
  "language_info": {
   "codemirror_mode": {
    "name": "ipython",
    "version": 3
   },
   "file_extension": ".py",
   "mimetype": "text/x-python",
   "name": "python",
   "nbconvert_exporter": "python",
   "pygments_lexer": "ipython3",
   "version": "3.6.9"
  }
 },
 "nbformat": 4,
 "nbformat_minor": 5
}
