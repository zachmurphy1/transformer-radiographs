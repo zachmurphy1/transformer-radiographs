{
 "cells": [
  {
   "cell_type": "markdown",
   "id": "18603b26-c056-458a-a796-0be5257029bf",
   "metadata": {},
   "source": [
    "# Get images of each label that each model gets right"
   ]
  },
  {
   "cell_type": "code",
   "execution_count": 114,
   "id": "9de56889-e571-47e6-95bd-983e3a4cfe0f",
   "metadata": {},
   "outputs": [
    {
     "name": "stdout",
     "output_type": "stream",
     "text": [
      "The autoreload extension is already loaded. To reload it, use:\n",
      "  %reload_ext autoreload\n"
     ]
    },
    {
     "name": "stderr",
     "output_type": "stream",
     "text": [
      "[autoreload of vit_grad_rollout.vit_grad_rollout failed: Traceback (most recent call last):\n",
      "  File \"/cis/home/zmurphy/.local/lib/python3.6/site-packages/IPython/extensions/autoreload.py\", line 245, in check\n",
      "    superreload(m, reload, self.old_objects)\n",
      "  File \"/cis/home/zmurphy/.local/lib/python3.6/site-packages/IPython/extensions/autoreload.py\", line 394, in superreload\n",
      "    module = reload(module)\n",
      "  File \"/usr/lib/python3.6/imp.py\", line 315, in reload\n",
      "    return importlib.reload(module)\n",
      "  File \"/usr/lib/python3.6/importlib/__init__.py\", line 166, in reload\n",
      "    _bootstrap._exec(spec, module)\n",
      "  File \"<frozen importlib._bootstrap>\", line 618, in _exec\n",
      "  File \"<frozen importlib._bootstrap_external>\", line 674, in exec_module\n",
      "  File \"<frozen importlib._bootstrap_external>\", line 781, in get_code\n",
      "  File \"<frozen importlib._bootstrap_external>\", line 741, in source_to_code\n",
      "  File \"<frozen importlib._bootstrap>\", line 219, in _call_with_frames_removed\n",
      "  File \"/cis/home/zmurphy/my_documents/transformer-cxr/transformer-radiographs/attn_maps/vit_grad_rollout/vit_grad_rollout.py\", line 65\n",
      "    self.attentions = []\n",
      "                       ^\n",
      "IndentationError: unindent does not match any outer indentation level\n",
      "]\n"
     ]
    }
   ],
   "source": [
    "%load_ext autoreload\n",
    "%autoreload 2\n",
    "import os, sys, json\n",
    "import pandas as pd\n",
    "import numpy as np\n",
    "import pickle"
   ]
  },
  {
   "cell_type": "code",
   "execution_count": 115,
   "id": "f4592017-c70c-484e-88f3-adc4a137cd3c",
   "metadata": {},
   "outputs": [],
   "source": [
    "with open('/cis/home/zmurphy/code/transformer-radiographs/cfg.json'.replace('~', os.path.expanduser('~')), 'r') as f:\n",
    "    cfg = json.load(f)\n",
    "    \n",
    "deit_test = '/cis/home/zmurphy/code/data/results/final/DeiT_lr0.05_bs16_optSGD_wd1e-05_sch_step_pp3_bp5_trtrain_all.txt_vatest.txt_tfhflip_nllayer_do0.0_1624113464.pkl'\n",
    "dn_test = '/cis/home/zmurphy/code/data/results/final/DenseNet121_lr0.05_bs16_optSGD_wd0.0001_sch_step_pp3_bp5_trtrain_all.txt_vatest.txt_tfhflip_nlbatch_do0.5_1624137117.pkl'\n",
    "thresh_file = '/cis/home/zmurphy/code/data/results/final/CXR100_final/results_table.csv'\n",
    "\n",
    "labels = cfg['labels_chexnet_14_standard']\n",
    "\n",
    "dataset = 'mimic'"
   ]
  },
  {
   "cell_type": "code",
   "execution_count": 116,
   "id": "8cf1fd33-a39a-4ae6-b05a-36147f7ec3ad",
   "metadata": {},
   "outputs": [
    {
     "name": "stderr",
     "output_type": "stream",
     "text": [
      "/usr/lib/python3/dist-packages/ipykernel_launcher.py:6: SettingWithCopyWarning: \n",
      "A value is trying to be set on a copy of a slice from a DataFrame.\n",
      "Try using .loc[row_indexer,col_indexer] = value instead\n",
      "\n",
      "See the caveats in the documentation: https://pandas.pydata.org/pandas-docs/stable/user_guide/indexing.html#returning-a-view-versus-a-copy\n",
      "  \n",
      "/usr/lib/python3/dist-packages/ipykernel_launcher.py:14: SettingWithCopyWarning: \n",
      "A value is trying to be set on a copy of a slice from a DataFrame.\n",
      "Try using .loc[row_indexer,col_indexer] = value instead\n",
      "\n",
      "See the caveats in the documentation: https://pandas.pydata.org/pandas-docs/stable/user_guide/indexing.html#returning-a-view-versus-a-copy\n",
      "  \n"
     ]
    },
    {
     "data": {
      "text/plain": [
       "{'deit': {'Atelectasis': 0.12472043360769748,\n",
       "  'Cardiomegaly': 0.029847397707402707,\n",
       "  'Effusion': 0.16319569873809814,\n",
       "  'Infiltration': nan,\n",
       "  'Mass': nan,\n",
       "  'Nodule': nan,\n",
       "  'Pneumonia': 0.0142530904058367,\n",
       "  'Pneumothorax': 0.01436997843440622,\n",
       "  'Consolidation': 0.045223655831068764,\n",
       "  'Edema': 0.01160159358661622,\n",
       "  'Emphysema': nan,\n",
       "  'Fibrosis': nan,\n",
       "  'Pleural_Thickening': nan,\n",
       "  'Hernia': nan},\n",
       " 'dn': {'Atelectasis': 0.18386863458156585,\n",
       "  'Cardiomegaly': 0.03583105651289225,\n",
       "  'Effusion': 0.19046844670176505,\n",
       "  'Infiltration': nan,\n",
       "  'Mass': nan,\n",
       "  'Nodule': nan,\n",
       "  'Pneumonia': 0.018358949685469268,\n",
       "  'Pneumothorax': 0.029094236677512524,\n",
       "  'Consolidation': 0.06642546544969083,\n",
       "  'Edema': 0.018279770027846098,\n",
       "  'Emphysema': nan,\n",
       "  'Fibrosis': nan,\n",
       "  'Pleural_Thickening': nan,\n",
       "  'Hernia': nan}}"
      ]
     },
     "execution_count": 116,
     "metadata": {},
     "output_type": "execute_result"
    }
   ],
   "source": [
    "# Get thresholds\n",
    "thresh = pd.read_csv(thresh_file)\n",
    "\n",
    "# Deit\n",
    "thresh_deit = thresh[(thresh['Set']=='{}_test'.format(dataset))&(thresh['Model']=='DeiT-B')&(thresh['Measure'].isin(['thresh_{}'.format(x) for x in labels]))]\n",
    "thresh_deit['Measure'] = thresh_deit['Measure'].apply(lambda x: x.replace('thresh_',''))\n",
    "thresh_deit.set_index('Measure', inplace=True)\n",
    "thresh_deit = thresh_deit['Mean']\n",
    "thresh_deit = thresh_deit.to_dict()\n",
    "thresh_deit\n",
    "\n",
    "# DN\n",
    "thresh_dn = thresh[(thresh['Set']=='{}_test'.format(dataset))&(thresh['Model']=='DenseNet121')&(thresh['Measure'].isin(['thresh_{}'.format(x) for x in labels]))]\n",
    "thresh_dn['Measure'] = thresh_dn['Measure'].apply(lambda x: x.replace('thresh_',''))\n",
    "thresh_dn.set_index('Measure', inplace=True)\n",
    "thresh_dn = thresh_dn['Mean']\n",
    "thresh_dn = thresh_dn.to_dict()\n",
    "thresh_dn\n",
    "\n",
    "thresh = {'deit': thresh_deit, 'dn':thresh_dn}\n",
    "thresh"
   ]
  },
  {
   "cell_type": "code",
   "execution_count": 117,
   "id": "e5107288-837e-4e69-9f4a-b75ae373bc5d",
   "metadata": {},
   "outputs": [
    {
     "name": "stdout",
     "output_type": "stream",
     "text": [
      "(4220, 2)\n",
      "(4136, 2)\n"
     ]
    }
   ],
   "source": [
    "def get_correct_pos_images(test_file, thresh):\n",
    "  with open(test_file, 'rb') as f:\n",
    "    dat = pickle.load(f)\n",
    "  dat = dat['{}_test'.format(dataset)]\n",
    "  dat = pd.DataFrame().from_dict(dat)\n",
    "\n",
    "  for i, l in enumerate(labels):\n",
    "    dat['y_{}'.format(l)] = dat['y'].apply(lambda x: x[i])\n",
    "  for i, l in enumerate(labels):\n",
    "    dat['yhat_{}'.format(l)] = dat['yhat'].apply(lambda x: x[i])\n",
    "  for i, l in enumerate(labels):\n",
    "    dat['thresh_{}'.format(l)] = thresh[l]\n",
    "  for i, l in enumerate(labels):\n",
    "    dat['ypred_{}'.format(l)] = (dat['yhat_{}'.format(l)] >= dat['thresh_{}'.format(l)]).astype(int)\n",
    "\n",
    "  # Get images with only one label\n",
    "  dat['gt_pos'] = dat[['y_{}'.format(l) for l in labels]].sum(axis=1)\n",
    "  dat = dat[dat['gt_pos']==1]\n",
    "  \n",
    "  # # Get images with one activation\n",
    "  # dat['pred_pos'] = dat[['ypred_{}'.format(l) for l in labels]].sum(axis=1)\n",
    "  # dat = dat[dat['pred_pos']==1]\n",
    "\n",
    "  # Get label that's positive\n",
    "  dat['pos_label'] = dat[['y_{}'.format(l) for l in labels]].apply(lambda x: np.argmax(x), axis=1)\n",
    "\n",
    "  # Get only those predicted correctly for pos label\n",
    "  idxs = []\n",
    "  for i, r in dat.iterrows():\n",
    "    if r['ypred_{}'.format(labels[r['pos_label']])]==1:\n",
    "      idxs.append(i)\n",
    "  dat = dat.loc[idxs]\n",
    "  \n",
    "  # # Get only those with one pos activation\n",
    "  # dat = dat[dat[['ypred_{}'.format(l) for l in labels]].sum(axis=1)==1]\n",
    "\n",
    "  # Get only file and label\n",
    "  dat['pos_label'] = dat['pos_label'].apply(lambda x: labels[x])\n",
    "  dat = dat[['file','pos_label']]\n",
    "  print(dat.shape)\n",
    "  return dat\n",
    "\n",
    "deit_list = get_correct_pos_images(deit_test, thresh['deit'])\n",
    "dn_list = get_correct_pos_images(dn_test, thresh['dn'])"
   ]
  },
  {
   "cell_type": "code",
   "execution_count": 118,
   "id": "d822c4dc-9bf0-48c2-ac60-61f67db57c5c",
   "metadata": {},
   "outputs": [
    {
     "name": "stdout",
     "output_type": "stream",
     "text": [
      "175\n"
     ]
    }
   ],
   "source": [
    "dat = pd.merge(deit_list,dn_list, on=['file','pos_label'], how='inner')\n",
    "dat['file'] = dat['file'].apply(lambda x: x.split('/')[-1])\n",
    "\n",
    "images_to_test = []\n",
    "for l in labels:\n",
    "  dat_ = dat[dat['pos_label']==l]\n",
    "  # Get up to 25\n",
    "  images_to_test.extend(dat_['file'].sample(n=min(25,dat_.shape[0]), random_state=1234).tolist())\n",
    "print(len(images_to_test))\n",
    "pd.Series(images_to_test).to_csv(os.path.join(cfg['data_dir'], '{}/test_compare_map.txt'.format(dataset)), index=False, header=False)"
   ]
  },
  {
   "cell_type": "markdown",
   "id": "b7f0dcd8-fc69-4795-be8b-0e32af944238",
   "metadata": {},
   "source": [
    "# DeiT attention map code"
   ]
  },
  {
   "cell_type": "code",
   "execution_count": 119,
   "id": "14f14b18-88b9-40ad-95c3-2bbce9a24c12",
   "metadata": {},
   "outputs": [
    {
     "name": "stdout",
     "output_type": "stream",
     "text": [
      "Defaulting to user installation because normal site-packages is not writeable\n",
      "\u001b[33mWARNING: Ignoring invalid distribution -illow (/cis/home/zmurphy/.local/lib/python3.6/site-packages)\u001b[0m\n",
      "\u001b[33mWARNING: Ignoring invalid distribution -illow (/cis/home/zmurphy/.local/lib/python3.6/site-packages)\u001b[0m\n",
      "Requirement already satisfied: opencv-python in /cis/home/zmurphy/.local/lib/python3.6/site-packages (4.5.5.62)\n",
      "Requirement already satisfied: numpy>=1.13.3 in /cis/home/zmurphy/.local/lib/python3.6/site-packages (from opencv-python) (1.19.5)\n",
      "\u001b[33mWARNING: Ignoring invalid distribution -illow (/cis/home/zmurphy/.local/lib/python3.6/site-packages)\u001b[0m\n",
      "\u001b[33mWARNING: Ignoring invalid distribution -illow (/cis/home/zmurphy/.local/lib/python3.6/site-packages)\u001b[0m\n",
      "\u001b[33mWARNING: Ignoring invalid distribution -illow (/cis/home/zmurphy/.local/lib/python3.6/site-packages)\u001b[0m\n",
      "Defaulting to user installation because normal site-packages is not writeable\n",
      "\u001b[33mWARNING: Ignoring invalid distribution -illow (/cis/home/zmurphy/.local/lib/python3.6/site-packages)\u001b[0m\n",
      "\u001b[33mWARNING: Ignoring invalid distribution -illow (/cis/home/zmurphy/.local/lib/python3.6/site-packages)\u001b[0m\n",
      "Requirement already satisfied: nopdb in /cis/home/zmurphy/.local/lib/python3.6/site-packages (0.2.0)\n",
      "\u001b[33mWARNING: Ignoring invalid distribution -illow (/cis/home/zmurphy/.local/lib/python3.6/site-packages)\u001b[0m\n",
      "\u001b[33mWARNING: Ignoring invalid distribution -illow (/cis/home/zmurphy/.local/lib/python3.6/site-packages)\u001b[0m\n",
      "\u001b[33mWARNING: Ignoring invalid distribution -illow (/cis/home/zmurphy/.local/lib/python3.6/site-packages)\u001b[0m\n"
     ]
    }
   ],
   "source": [
    "\"\"\"Imports\"\"\"\n",
    "import os, sys, shutil, json\n",
    "import pandas as pd\n",
    "import numpy as np\n",
    "import pickle\n",
    "\n",
    "import torch\n",
    "import torch.nn as nn\n",
    "from torch.utils.data import DataLoader\n",
    "import torchvision\n",
    "\n",
    "import matplotlib.pyplot as plt\n",
    "import matplotlib.cm as cm\n",
    "\n",
    "!pip install opencv-python\n",
    "import cv2\n",
    "!pip install nopdb\n",
    "import nopdb\n",
    "\n",
    "from vit_grad_rollout.vit_grad_rollout import VITAttentionGradRollout\n",
    "from vit_grad_rollout.vit_rollout import VITAttentionRollout\n",
    "\n",
    "# Custom\n",
    "sys.path.append('../')\n",
    "import custom_modules as CXR\n",
    "\n",
    "\"\"\"Set GPU\"\"\"\n",
    "os.environ['CUDA_DEVICE_ORDER']='PCI_BUS_ID'\n",
    "os.environ['CUDA_VISIBLE_DEVICES']='0' # <------ Be sure to set the right GPU!!!\n",
    "device='cuda'"
   ]
  },
  {
   "cell_type": "code",
   "execution_count": 120,
   "id": "9d78d055-8029-4787-8e98-61502301440a",
   "metadata": {},
   "outputs": [],
   "source": [
    "\"\"\"Config\"\"\"\n",
    "with open('/cis/home/zmurphy/code/transformer-radiographs/cfg.json'.replace('~', os.path.expanduser('~')), 'r') as f:\n",
    "    cfg = json.load(f)\n",
    "    \n",
    "# CXR\n",
    "deit_model_state = '/cis/home/zmurphy/code/data/results/final/DeiT_lr0.05_bs16_optSGD_wd1e-05_sch_step_pp3_bp5_trtrain_all.txt_vatest.txt_tfhflip_nllayer_do0.0_1624113464_model.pt'\n",
    "dn_model_state =   '/cis/home/zmurphy/code/data/results/final/DenseNet121_lr0.05_bs16_optSGD_wd0.0001_sch_step_pp3_bp5_trtrain_all.txt_vatest.txt_tfhflip_nlbatch_do0.5_1624137117_model.pt'\n",
    "model_args = {\n",
    "    'labels_set': 'chexnet-14-standard',\n",
    "    'labels': cfg['labels_chexnet_14_standard'],\n",
    "    'n_labels': len(cfg['labels_chexnet_14_standard']),\n",
    "    'batch_size': 1,\n",
    "    'data_dir': cfg['data_dir'],\n",
    "    'dataset': dataset,\n",
    "    'test_file': 'test_compare_map.txt',\n",
    "    'use_parallel': 'y',\n",
    "    'num_workers': 12,\n",
    "    'img_size': 224,\n",
    "    'print_batches': False,\n",
    "    'scratch_dir':'/export/gaon1/data/zmurphy/transformer-cxr',\n",
    "    'results_dir':'/export/gaon1/data/zmurphy/transformer-cxr/results/final'\n",
    "}\n",
    "\n",
    "\n",
    "# ImageNet mean, std\n",
    "mean = torch.tensor([0.485, 0.456, 0.406])\n",
    "std = torch.tensor([0.229, 0.224, 0.225])\n"
   ]
  },
  {
   "cell_type": "code",
   "execution_count": 121,
   "id": "a44e815b-cc74-4910-ad7a-6282f9a33717",
   "metadata": {},
   "outputs": [
    {
     "name": "stdout",
     "output_type": "stream",
     "text": [
      "\n",
      "Test set: starting load\n",
      "Using image path file\n",
      "Using no transforms\n",
      "Loaded 175 images\n"
     ]
    }
   ],
   "source": [
    "\"\"\"Load data\"\"\"\n",
    "dataset_root = os.path.join(model_args['data_dir'], model_args['dataset'])\n",
    "\n",
    "# CXR\n",
    "test_data = CXR.CXRDataset(images_list=os.path.join(dataset_root, model_args['test_file']),\n",
    "                            dataset=model_args['dataset'],\n",
    "                            images_dir=os.path.join(dataset_root, 'images'),\n",
    "                            image_paths=os.path.join(dataset_root, 'image_paths.txt'),\n",
    "                            labels_file=os.path.join(dataset_root, 'labels.csv'),\n",
    "                            labels=model_args['labels'],\n",
    "                            transform='none',\n",
    "                            op='test',\n",
    "                            img_size=model_args['img_size'])\n",
    "\n",
    "testLoader = DataLoader(test_data, batch_size=model_args['batch_size'],\n",
    "                         pin_memory=True, shuffle=False,\n",
    "                         num_workers=model_args['num_workers'])\n"
   ]
  },
  {
   "cell_type": "code",
   "execution_count": 122,
   "id": "79715fd9-8afd-4162-bcac-9cd060800ff7",
   "metadata": {},
   "outputs": [
    {
     "name": "stderr",
     "output_type": "stream",
     "text": [
      "Using cache found in base_model_states/facebookresearch_deit_main\n"
     ]
    },
    {
     "data": {
      "text/plain": [
       "False"
      ]
     },
     "execution_count": 122,
     "metadata": {},
     "output_type": "execute_result"
    }
   ],
   "source": [
    "\"\"\"Get deit model and set state\"\"\"\n",
    "torch.hub.set_dir('base_model_states')\n",
    "model_deit = torch.hub.load('facebookresearch/deit:main', 'deit_base_patch16_224', pretrained=True)\n",
    "\n",
    "# CXR\n",
    "model_deit.head = nn.Sequential(nn.Linear(in_features=768, out_features=model_args['n_labels']), nn.Sigmoid())\n",
    "model_deit.load_state_dict(torch.load(deit_model_state, map_location=torch.device('cpu')))\n",
    "\n",
    "# Test\n",
    "model_deit.eval()\n",
    "\n",
    "# Model to GPU\n",
    "model_deit = model_deit.to(device)\n",
    "model_deit.training\n"
   ]
  },
  {
   "cell_type": "code",
   "execution_count": 123,
   "id": "4d474128-abe6-45a8-960a-e29ea55b6309",
   "metadata": {},
   "outputs": [
    {
     "data": {
      "text/plain": [
       "False"
      ]
     },
     "execution_count": 123,
     "metadata": {},
     "output_type": "execute_result"
    }
   ],
   "source": [
    "\"\"\"DenseNet121\"\"\"\n",
    "from pytorch_grad_cam import GradCAM, GradCAMPlusPlus, XGradCAM, AblationCAM\n",
    "from pytorch_grad_cam.utils.model_targets import ClassifierOutputTarget\n",
    "\n",
    "# DenseNet-121\n",
    "model_dn = torchvision.models.densenet121(pretrained=True)\n",
    "model_dn.classifier = nn.Sequential(nn.Linear(in_features=1024, out_features=model_args['n_labels']), nn.Sigmoid())\n",
    "model_dn.load_state_dict(torch.load(dn_model_state, map_location=torch.device(device)))\n",
    "\n",
    "model_dn.eval()\n",
    "\n",
    "# Model to GPU\n",
    "model_dn = model_dn.to(device)\n",
    "\n",
    "model_dn.training"
   ]
  },
  {
   "cell_type": "code",
   "execution_count": 131,
   "id": "9d820737-1983-4a34-ae76-580e4063a89e",
   "metadata": {},
   "outputs": [],
   "source": [
    "cmap=cm.get_cmap('jet',256)\n",
    "grad_rollout = VITAttentionGradRollout(model_deit, discard_ratio=0.9, device=device)\n",
    "cam = GradCAMPlusPlus(model=model_dn, target_layers=[model_dn.features[-1]], use_cuda=True)\n",
    "attn_rollout = VITAttentionRollout(model_deit, discard_ratio=0.9, head_fusion='max', device=device)\n",
    "\n",
    "def get_attn(x, y_idx):\n",
    "  x = x.to(device)\n",
    "  attn_map = grad_rollout(x, category_index=y_idx)\n",
    "  # attn_map = attn_rollout(x)\n",
    "  attn_map = cmap(cv2.resize(attn_map, dsize=(224,224)))\n",
    "  x = x.to(device)\n",
    "  return attn_map\n",
    "\n",
    "def get_gradcam(x,y_idx):\n",
    "  \n",
    "  targets = [ClassifierOutputTarget(y_idx)]\n",
    "  grayscale_cam = cam(input_tensor=x, targets=targets, aug_smooth=True)\n",
    "  # grayscale_cam = grayscale_cam - grayscale_cam.min()\n",
    "  # grayscale_cam = grayscale_cam/grayscale_cam.max()\n",
    "  grayscale_cam = cmap(cv2.resize(grayscale_cam.squeeze(0), dsize=(224,224)))\n",
    "  return grayscale_cam"
   ]
  },
  {
   "cell_type": "code",
   "execution_count": 133,
   "id": "d2cdecc5-50f6-46a8-9aef-180285a43a0e",
   "metadata": {},
   "outputs": [
    {
     "name": "stdout",
     "output_type": "stream",
     "text": [
      "3"
     ]
    }
   ],
   "source": [
    "\"\"\"Loop through input images\"\"\"\n",
    "target_dir='attn_maps_{}'.format(dataset)\n",
    "if os.path.exists(target_dir):\n",
    "  shutil.rmtree(target_dir)\n",
    "os.mkdir(target_dir)\n",
    "\n",
    "\n",
    "ct = 0\n",
    "for x, y, file in testLoader:\n",
    "  y_idx = y.argmax()\n",
    "  \n",
    "  # Get GadCAM\n",
    "  grayscale_cam = get_gradcam(x,y_idx)\n",
    "  \n",
    "  # Get attention map and yhat\n",
    "  attn_map = get_attn(x, y_idx)\n",
    "\n",
    "  # Reverse ImageNet mean & std for CXR\n",
    "  im = x.squeeze(0)\n",
    "  im = im * std[:, None, None] + mean[:, None, None]\n",
    "\n",
    "  # Plot\n",
    "  fig, ax = plt.subplots(1,3, figsize=(10,5))\n",
    "  fig.patch.set_facecolor('white')\n",
    "  ax[0].imshow(im.numpy().transpose(1, 2, 0))\n",
    "  ax[1].imshow(attn_map)\n",
    "  ax[2].imshow(grayscale_cam)\n",
    "\n",
    "  ax[0].set_title('Input')\n",
    "  ax[1].set_title('DeiT-B')\n",
    "  ax[2].set_title('DenseNet121')\n",
    "\n",
    "  [ax[ax_i].axis('off') for ax_i in range(3)]\n",
    "\n",
    "  # Get labels for image\n",
    "  labs = []\n",
    "  for l in range(model_args['n_labels']):\n",
    "    if y[0][l] == 1:\n",
    "      labs.append(model_args['labels'][l])\n",
    "  if len(labs) == 0:\n",
    "    plt.suptitle(file[0][file[0].rfind('/')+1:] + '\\n' + 'No findings')\n",
    "  else:\n",
    "    plt.suptitle(file[0][file[0].rfind('/')+1:] + '\\n' + ', '.join(labs))\n",
    "\n",
    "  # Show plot\n",
    "  fig.tight_layout()\n",
    "  os.makedirs(os.path.join(target_dir,labels[np.argmax(y[0])]), exist_ok=True)\n",
    "  plt.savefig(os.path.join(target_dir,labels[np.argmax(y[0])], file[0][file[0].rfind('/')+1:]),bbox_inches='tight')\n",
    "  plt.close()\n",
    "\n",
    "  ct += 1\n",
    "  print('\\r{}'.format(ct),end='')\n",
    "  if ct == 3:\n",
    "    break"
   ]
  },
  {
   "cell_type": "markdown",
   "id": "dcd85bc0-0511-47f2-b8a5-832f62e6fa6a",
   "metadata": {},
   "source": [
    "# Test on ImageNet to make sure it's working"
   ]
  },
  {
   "cell_type": "code",
   "execution_count": 153,
   "id": "14c899a1-fd7b-46e6-a3ce-d606aa5e68f0",
   "metadata": {},
   "outputs": [
    {
     "name": "stderr",
     "output_type": "stream",
     "text": [
      "Using cache found in ./export/gaon1/data/zmurphy/transformer-cxr/results/facebookresearch_deit_main\n"
     ]
    },
    {
     "data": {
      "image/png": "[encoded data removed]",
      "text/plain": [
       "<Figure size 432x288 with 1 Axes>"
      ]
     },
     "metadata": {},
     "output_type": "display_data"
    },
    {
     "data": {
      "image/png": "[encoded data removed]",
      "text/plain": [
       "<Figure size 432x288 with 1 Axes>"
      ]
     },
     "metadata": {},
     "output_type": "display_data"
    }
   ],
   "source": [
    "from torchvision import transforms\n",
    "from PIL import Image\n",
    "# DenseNet-121\n",
    "model_dn = torchvision.models.densenet201(pretrained=True)\n",
    "\n",
    "torch.hub.set_dir('.'+'/export/gaon1/data/zmurphy/transformer-cxr/results'.replace('.','_'))\n",
    "model_deit_im = torch.hub.load('facebookresearch/deit:main', 'deit_base_patch16_224', pretrained=True)\n",
    "model_deit_im.eval()\n",
    "model_deit_im = model_deit_im.to(device)\n",
    "\n",
    "tfms = transforms.Compose([\n",
    "  transforms.ToTensor(),\n",
    "  transforms.Resize((224,224), transforms.functional.InterpolationMode.BILINEAR),\n",
    "  transforms.Normalize((0.485, 0.456, 0.406), (0.229, 0.224, 0.225))\n",
    "])\n",
    "\n",
    "file_name = 'airplane2'\n",
    "img_raw = Image.open('../google_images/'+file_name+'.jpeg')\n",
    "img = tfms(img_raw).unsqueeze(0)\n",
    "\n",
    "plt.imshow(img_raw)\n",
    "plt.show()\n",
    "img = img.to(device)\n",
    "grad_rollout = VITAttentionGradRollout(model_deit_im, discard_ratio=0.9, device=device)\n",
    "attn_map = grad_rollout(img, category_index=895)\n",
    "attn_map = cv2.resize(attn_map, dsize=img_raw.size)\n",
    "plt.imshow(attn_map)\n",
    "plt.show()\n",
    "\n",
    "# cam = GradCAM(model=model_dn, target_layers=[model_dn.features[-1]], use_cuda=False)\n",
    "\n",
    "# gs = cam(img)\n",
    "# gs = cv2.resize(gs.squeeze(), dsize=img_raw.size)\n",
    "# plt.imshow(img_raw)\n",
    "# plt.show()\n",
    "# plt.imshow(gs)"
   ]
  },
  {
   "cell_type": "code",
   "execution_count": null,
   "id": "e59b6681-99cd-4907-b311-94eaeb69e27a",
   "metadata": {},
   "outputs": [],
   "source": []
  },
  {
   "cell_type": "code",
   "execution_count": null,
   "id": "7de4e9ff-2b6d-436a-b480-dc015785e0a1",
   "metadata": {},
   "outputs": [],
   "source": []
  }
 ],
 "metadata": {
  "kernelspec": {
   "display_name": "Python 3",
   "language": "python",
   "name": "python3"
  },
  "language_info": {
   "codemirror_mode": {
    "name": "ipython",
    "version": 3
   },
   "file_extension": ".py",
   "mimetype": "text/x-python",
   "name": "python",
   "nbconvert_exporter": "python",
   "pygments_lexer": "ipython3",
   "version": "3.6.9"
  }
 },
 "nbformat": 4,
 "nbformat_minor": 5
}
