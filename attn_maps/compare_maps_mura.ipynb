{
 "cells": [
  {
   "cell_type": "markdown",
   "id": "18603b26-c056-458a-a796-0be5257029bf",
   "metadata": {},
   "source": [
    "# Get images of each label that each model gets right"
   ]
  },
  {
   "cell_type": "code",
   "execution_count": 12,
   "id": "9de56889-e571-47e6-95bd-983e3a4cfe0f",
   "metadata": {},
   "outputs": [
    {
     "name": "stdout",
     "output_type": "stream",
     "text": [
      "The autoreload extension is already loaded. To reload it, use:\n",
      "  %reload_ext autoreload\n"
     ]
    }
   ],
   "source": [
    "%load_ext autoreload\n",
    "%autoreload 2\n",
    "import os, sys, json\n",
    "import pandas as pd\n",
    "import numpy as np\n",
    "import pickle"
   ]
  },
  {
   "cell_type": "code",
   "execution_count": 13,
   "id": "f3731bb0-651f-46fe-b2e8-b613cab15bea",
   "metadata": {},
   "outputs": [],
   "source": [
    "with open('/cis/home/zmurphy/code/transformer-radiographs/cfg.json'.replace('~', os.path.expanduser('~')), 'r') as f:\n",
    "    cfg = json.load(f)\n",
    "    \n",
    "deit_test = '/cis/home/zmurphy/code/data/mura_results/final/DeiT_lr0.005_bs16_optSGD_wd1e-05_sch_step_pp3_bp5_trtrain_all.txt_vatest.txt_tfhflip_nllayer_do0.0_1625279193.pkl'\n",
    "dn_test = '/cis/home/zmurphy/code/data/mura_results/final/DenseNet121_lr0.005_bs16_optSGD_wd1e-05_sch_step_pp3_bp5_trtrain_all.txt_vatest.txt_tfhflip_nlbatch_do0.5_1625271936.pkl'\n",
    "thresh_file = '/cis/home/zmurphy/code/data/mura_results/final/MURA100_final/results_table.csv'\n",
    "\n",
    "labels = ['shoulder','humerus','elbow', 'forearm','wrist','hand','finger']\n",
    "\n",
    "dataset = 'mura'"
   ]
  },
  {
   "cell_type": "code",
   "execution_count": 14,
   "id": "d8330d30-09de-4c88-9885-2fdec8df79fd",
   "metadata": {},
   "outputs": [
    {
     "name": "stderr",
     "output_type": "stream",
     "text": [
      "/usr/lib/python3/dist-packages/ipykernel_launcher.py:6: SettingWithCopyWarning: \n",
      "A value is trying to be set on a copy of a slice from a DataFrame.\n",
      "Try using .loc[row_indexer,col_indexer] = value instead\n",
      "\n",
      "See the caveats in the documentation: https://pandas.pydata.org/pandas-docs/stable/user_guide/indexing.html#returning-a-view-versus-a-copy\n",
      "  \n",
      "/usr/lib/python3/dist-packages/ipykernel_launcher.py:14: SettingWithCopyWarning: \n",
      "A value is trying to be set on a copy of a slice from a DataFrame.\n",
      "Try using .loc[row_indexer,col_indexer] = value instead\n",
      "\n",
      "See the caveats in the documentation: https://pandas.pydata.org/pandas-docs/stable/user_guide/indexing.html#returning-a-view-versus-a-copy\n",
      "  \n"
     ]
    },
    {
     "data": {
      "text/plain": [
       "{'deit': {'shoulder': 0.4865632949421802,\n",
       "  'humerus': 0.4699080163462708,\n",
       "  'elbow': 0.3621327018337945,\n",
       "  'forearm': 0.19203256065770985,\n",
       "  'wrist': 0.2625227454217772,\n",
       "  'hand': 0.2555283138044179,\n",
       "  'finger': 0.33801886630927525},\n",
       " 'dn': {'shoulder': 0.4495774976300696,\n",
       "  'humerus': 0.3980763539262116,\n",
       "  'elbow': 0.25817359077980123,\n",
       "  'forearm': 0.2051880179873357,\n",
       "  'wrist': 0.2575261714157959,\n",
       "  'hand': 0.20139743540560204,\n",
       "  'finger': 0.327667739401261}}"
      ]
     },
     "execution_count": 14,
     "metadata": {},
     "output_type": "execute_result"
    }
   ],
   "source": [
    "# Get thresholds\n",
    "thresh = pd.read_csv(thresh_file)\n",
    "\n",
    "# Deit\n",
    "thresh_deit = thresh[(thresh['Set']=='{}_test'.format(dataset))&(thresh['Model']=='DeiT-B')&(thresh['Measure'].isin(['thresh_{}'.format(x) for x in labels]))]\n",
    "thresh_deit['Measure'] = thresh_deit['Measure'].apply(lambda x: x.replace('thresh_',''))\n",
    "thresh_deit.set_index('Measure', inplace=True)\n",
    "thresh_deit = thresh_deit['Mean']\n",
    "thresh_deit = thresh_deit.to_dict()\n",
    "thresh_deit\n",
    "\n",
    "# DN\n",
    "thresh_dn = thresh[(thresh['Set']=='{}_test'.format(dataset))&(thresh['Model']=='DenseNet121')&(thresh['Measure'].isin(['thresh_{}'.format(x) for x in labels]))]\n",
    "thresh_dn['Measure'] = thresh_dn['Measure'].apply(lambda x: x.replace('thresh_',''))\n",
    "thresh_dn.set_index('Measure', inplace=True)\n",
    "thresh_dn = thresh_dn['Mean']\n",
    "thresh_dn = thresh_dn.to_dict()\n",
    "thresh_dn\n",
    "\n",
    "thresh = {'deit': thresh_deit, 'dn':thresh_dn}\n",
    "thresh"
   ]
  },
  {
   "cell_type": "code",
   "execution_count": 15,
   "id": "4da0bbeb-144f-4faa-bb22-27d48fcf3110",
   "metadata": {},
   "outputs": [
    {
     "name": "stdout",
     "output_type": "stream",
     "text": [
      "(1530, 2)\n",
      "(1530, 2)\n"
     ]
    }
   ],
   "source": [
    "def get_correct_pos_images(test_file, thresh):\n",
    "  with open(test_file, 'rb') as f:\n",
    "    dat = pickle.load(f)\n",
    "  dat = dat['{}_test'.format(dataset)]\n",
    "  dat = pd.DataFrame().from_dict(dat)\n",
    "\n",
    "  for i, l in enumerate(labels):\n",
    "    dat['y_{}'.format(l)] = dat[dat['region']==l]['y'].apply(lambda x: x[1])\n",
    "  for i, l in enumerate(labels):\n",
    "    dat['yhat_{}'.format(l)] = dat[dat['region']==l]['yhat'].apply(lambda x: x[1])\n",
    "  for i, l in enumerate(labels):\n",
    "    dat['thresh_{}'.format(l)] = thresh[l]\n",
    "  for i, l in enumerate(labels):\n",
    "    dat['ypred_{}'.format(l)] = (dat[dat['region']==l]['yhat_{}'.format(l)] >= dat[dat['region']==l]['thresh_{}'.format(l)]).astype(int)\n",
    "\n",
    "  \n",
    "\n",
    "  # Get label that's positive\n",
    "  dat['pos_label'] = dat[['y_{}'.format(l) for l in labels]].apply(lambda x: np.argmax(x), axis=1)\n",
    "\n",
    "  # Get only those predicted correctly for pos label\n",
    "  dat = dat[dat['y'].apply(lambda x: x[1] == 1)]\n",
    "\n",
    "  # # Get only those with one pos activation\n",
    "  # dat = dat[dat[['ypred_{}'.format(l) for l in labels]].sum(axis=1)==1]\n",
    "\n",
    "  # Get only file and label\n",
    "  dat['pos_label'] = dat['pos_label'].apply(lambda x: labels[x])\n",
    "  dat = dat[['file','pos_label']]\n",
    "  print(dat.shape)\n",
    "  return dat\n",
    "\n",
    "deit_list = get_correct_pos_images(deit_test, thresh['deit'])\n",
    "dn_list = get_correct_pos_images(dn_test, thresh['dn'])"
   ]
  },
  {
   "cell_type": "code",
   "execution_count": 16,
   "id": "34474737-e46e-47f9-a488-4459662c4ab4",
   "metadata": {},
   "outputs": [
    {
     "name": "stdout",
     "output_type": "stream",
     "text": [
      "175\n"
     ]
    }
   ],
   "source": [
    "dat = pd.merge(deit_list,dn_list, on=['file','pos_label'], how='inner')\n",
    "dat['file'] = dat['file'].apply(lambda x: x.split('/')[-1])\n",
    "\n",
    "images_to_test = []\n",
    "for l in labels:\n",
    "  dat_ = dat[dat['pos_label']==l]\n",
    "  # Get up to 25\n",
    "  images_to_test.extend(dat_['file'].sample(n=min(25,dat_.shape[0]), random_state=1234).tolist())\n",
    "print(len(images_to_test))\n",
    "pd.Series(images_to_test).to_csv(os.path.join(cfg['data_dir'], '{}/test_compare_map.txt'.format(dataset)), index=False, header=False)"
   ]
  },
  {
   "cell_type": "markdown",
   "id": "b7f0dcd8-fc69-4795-be8b-0e32af944238",
   "metadata": {},
   "source": [
    "# DeiT attention map code"
   ]
  },
  {
   "cell_type": "code",
   "execution_count": 17,
   "id": "14f14b18-88b9-40ad-95c3-2bbce9a24c12",
   "metadata": {},
   "outputs": [
    {
     "name": "stdout",
     "output_type": "stream",
     "text": [
      "Defaulting to user installation because normal site-packages is not writeable\n",
      "\u001b[33mWARNING: Ignoring invalid distribution -illow (/cis/home/zmurphy/.local/lib/python3.6/site-packages)\u001b[0m\n",
      "\u001b[33mWARNING: Ignoring invalid distribution -illow (/cis/home/zmurphy/.local/lib/python3.6/site-packages)\u001b[0m\n",
      "Requirement already satisfied: opencv-python in /cis/home/zmurphy/.local/lib/python3.6/site-packages (4.5.5.62)\n",
      "Requirement already satisfied: numpy>=1.13.3 in /cis/home/zmurphy/.local/lib/python3.6/site-packages (from opencv-python) (1.19.5)\n",
      "\u001b[33mWARNING: Ignoring invalid distribution -illow (/cis/home/zmurphy/.local/lib/python3.6/site-packages)\u001b[0m\n",
      "\u001b[33mWARNING: Ignoring invalid distribution -illow (/cis/home/zmurphy/.local/lib/python3.6/site-packages)\u001b[0m\n",
      "\u001b[33mWARNING: Ignoring invalid distribution -illow (/cis/home/zmurphy/.local/lib/python3.6/site-packages)\u001b[0m\n",
      "Defaulting to user installation because normal site-packages is not writeable\n",
      "\u001b[33mWARNING: Ignoring invalid distribution -illow (/cis/home/zmurphy/.local/lib/python3.6/site-packages)\u001b[0m\n",
      "\u001b[33mWARNING: Ignoring invalid distribution -illow (/cis/home/zmurphy/.local/lib/python3.6/site-packages)\u001b[0m\n",
      "Requirement already satisfied: nopdb in /cis/home/zmurphy/.local/lib/python3.6/site-packages (0.2.0)\n",
      "\u001b[33mWARNING: Ignoring invalid distribution -illow (/cis/home/zmurphy/.local/lib/python3.6/site-packages)\u001b[0m\n",
      "\u001b[33mWARNING: Ignoring invalid distribution -illow (/cis/home/zmurphy/.local/lib/python3.6/site-packages)\u001b[0m\n",
      "\u001b[33mWARNING: Ignoring invalid distribution -illow (/cis/home/zmurphy/.local/lib/python3.6/site-packages)\u001b[0m\n"
     ]
    }
   ],
   "source": [
    "\"\"\"Imports\"\"\"\n",
    "import os, sys, shutil, json\n",
    "import pandas as pd\n",
    "import numpy as np\n",
    "import pickle\n",
    "\n",
    "import torch\n",
    "import torch.nn as nn\n",
    "from torch.utils.data import DataLoader\n",
    "import torchvision\n",
    "\n",
    "import matplotlib.pyplot as plt\n",
    "import matplotlib.cm as cm\n",
    "\n",
    "!pip install opencv-python\n",
    "import cv2\n",
    "!pip install nopdb\n",
    "import nopdb\n",
    "\n",
    "from vit_grad_rollout.vit_grad_rollout import VITAttentionGradRollout\n",
    "from vit_grad_rollout.vit_rollout import VITAttentionRollout\n",
    "\n",
    "# Custom\n",
    "sys.path.append('../')\n",
    "import custom_modules as CXR\n",
    "\n",
    "\"\"\"Set GPU\"\"\"\n",
    "os.environ['CUDA_DEVICE_ORDER']='PCI_BUS_ID'\n",
    "os.environ['CUDA_VISIBLE_DEVICES']='0' # <------ Be sure to set the right GPU!!!\n",
    "device='cuda'"
   ]
  },
  {
   "cell_type": "code",
   "execution_count": 18,
   "id": "9d78d055-8029-4787-8e98-61502301440a",
   "metadata": {},
   "outputs": [],
   "source": [
    "\"\"\"Config\"\"\"\n",
    "with open('/cis/home/zmurphy/code/transformer-radiographs/cfg.json'.replace('~', os.path.expanduser('~')), 'r') as f:\n",
    "    cfg = json.load(f)\n",
    "    \n",
    "\n",
    "# MURA\n",
    "deit_model_state = '/cis/home/zmurphy/code/data/mura_results/final/DeiT_lr0.005_bs16_optSGD_wd1e-05_sch_step_pp3_bp5_trtrain_all.txt_vatest.txt_tfhflip_nllayer_do0.0_1625279193_model.pt'\n",
    "dn_model_state =   '/cis/home/zmurphy/code/data/mura_results/final/DenseNet121_lr0.005_bs16_optSGD_wd1e-05_sch_step_pp3_bp5_trtrain_all.txt_vatest.txt_tfhflip_nlbatch_do0.5_1625271936_model.pt'\n",
    "model_args = {\n",
    "    'labels_set': 'mura-standard',\n",
    "    'labels': cfg['labels_mura_standard'],\n",
    "    'n_labels': len(cfg['labels_mura_standard']),\n",
    "    'batch_size': 1,\n",
    "    'data_dir': cfg['data_dir'],\n",
    "    'dataset': dataset,\n",
    "    'test_file': 'test_compare_map.txt',\n",
    "    'use_parallel': 'y',\n",
    "    'num_workers': 12,\n",
    "    'img_size': 224,\n",
    "    'print_batches': False,\n",
    "    'scratch_dir':'/export/gaon1/data/zmurphy/transformer-cxr',\n",
    "    'results_dir':'/export/gaon1/data/zmurphy/transformer-cxr/mura_results/final'\n",
    "}\n",
    "\n",
    "# ImageNet mean, std\n",
    "mean = torch.tensor([0.485, 0.456, 0.406])\n",
    "std = torch.tensor([0.229, 0.224, 0.225])\n"
   ]
  },
  {
   "cell_type": "code",
   "execution_count": 19,
   "id": "a44e815b-cc74-4910-ad7a-6282f9a33717",
   "metadata": {},
   "outputs": [
    {
     "name": "stdout",
     "output_type": "stream",
     "text": [
      "\n",
      "Test set: starting load\n",
      "Using no transforms\n",
      "Loaded 175 images\n"
     ]
    }
   ],
   "source": [
    "\"\"\"Load data\"\"\"\n",
    "dataset_root = os.path.join(model_args['data_dir'], model_args['dataset'])\n",
    "\n",
    "# MURA\n",
    "test_data = CXR.MURADataset(images_file=os.path.join(dataset_root, model_args['test_file']),\n",
    "                            images_dir=os.path.join(dataset_root, 'images'),\n",
    "                            labels_file=os.path.join(dataset_root, 'labels.csv'),\n",
    "                            labels=model_args['labels'],\n",
    "                            transform='none',\n",
    "                            op='test',\n",
    "                            img_size=model_args['img_size'])\n",
    "\n",
    "testLoader = DataLoader(test_data, batch_size=model_args['batch_size'],\n",
    "                         pin_memory=True, shuffle=False,\n",
    "                         num_workers=model_args['num_workers'])\n"
   ]
  },
  {
   "cell_type": "code",
   "execution_count": 20,
   "id": "79715fd9-8afd-4162-bcac-9cd060800ff7",
   "metadata": {},
   "outputs": [
    {
     "name": "stderr",
     "output_type": "stream",
     "text": [
      "Using cache found in base_model_states/facebookresearch_deit_main\n"
     ]
    }
   ],
   "source": [
    "\"\"\"Get deit model and set state\"\"\"\n",
    "torch.hub.set_dir('base_model_states')\n",
    "model_deit = torch.hub.load('facebookresearch/deit:main', 'deit_base_patch16_224', pretrained=True)\n",
    "\n",
    "model_deit.head = nn.Sequential(nn.Linear(in_features=768, out_features=model_args['n_labels']), nn.Sigmoid())\n",
    "model_deit.load_state_dict(torch.load(deit_model_state, map_location=torch.device(device)))\n",
    "\n",
    "model_deit.eval()\n",
    "\n",
    "# Model to GPU\n",
    "model_deit = model_deit.to(device)"
   ]
  },
  {
   "cell_type": "code",
   "execution_count": 21,
   "id": "4d474128-abe6-45a8-960a-e29ea55b6309",
   "metadata": {},
   "outputs": [],
   "source": [
    "\"\"\"DenseNet121\"\"\"\n",
    "from pytorch_grad_cam import GradCAM, GradCAMPlusPlus, XGradCAM, AblationCAM\n",
    "from pytorch_grad_cam.utils.model_targets import ClassifierOutputTarget\n",
    "\n",
    "# DenseNet-121\n",
    "model_dn = torchvision.models.densenet121(pretrained=True)\n",
    "model_dn.classifier = nn.Sequential(nn.Linear(in_features=1024, out_features=model_args['n_labels']), nn.Sigmoid())\n",
    "model_dn.load_state_dict(torch.load(dn_model_state, map_location=torch.device(device)))\n",
    "\n",
    "model_dn.eval()\n",
    "\n",
    "# Model to GPU\n",
    "model_dn = model_dn.to(device)"
   ]
  },
  {
   "cell_type": "code",
   "execution_count": 27,
   "id": "9d820737-1983-4a34-ae76-580e4063a89e",
   "metadata": {},
   "outputs": [],
   "source": [
    "grad_rollout = VITAttentionGradRollout(model_deit, discard_ratio=0.9, device=device)\n",
    "cam = GradCAMPlusPlus(model=model_dn, target_layers=[model_dn.features[-1]], use_cuda=True)\n",
    "attn_rollout = VITAttentionRollout(model_deit, discard_ratio=0.9, head_fusion='max', device=device)\n",
    "\n",
    "cmap=cm.get_cmap('jet',256)\n",
    "\n",
    "def get_attn(x, y_idx):\n",
    "  x = x.to(device)\n",
    "  attn_map = grad_rollout(x, category_index=1)\n",
    "  #attn_map = attn_rollout(x)\n",
    "  attn_map = cmap(cv2.resize(attn_map, dsize=(224,224)))\n",
    "  x = x.to('cpu')\n",
    "  return attn_map\n",
    "\n",
    "def get_gradcam(x,y_idx):\n",
    "  targets = [ClassifierOutputTarget(1)]\n",
    "  grayscale_cam = cam(input_tensor=x, targets=targets, aug_smooth=True)\n",
    "  # grayscale_cam = grayscale_cam - grayscale_cam.min()\n",
    "  # grayscale_cam = grayscale_cam/grayscale_cam.max()\n",
    "  grayscale_cam = cmap(cv2.resize(grayscale_cam.squeeze(0), dsize=(224,224)))\n",
    "  return grayscale_cam"
   ]
  },
  {
   "cell_type": "code",
   "execution_count": 29,
   "id": "7ebdcdd1-9917-4dfc-b034-71f2254c41eb",
   "metadata": {},
   "outputs": [
    {
     "name": "stdout",
     "output_type": "stream",
     "text": [
      "175"
     ]
    }
   ],
   "source": [
    "\"\"\"MURA\"\"\"\n",
    "\"\"\"Loop through input images\"\"\"\n",
    "target_dir='attn_maps_{}'.format(dataset)\n",
    "if os.path.exists(target_dir):\n",
    "  shutil.rmtree(target_dir)\n",
    "os.mkdir(target_dir)\n",
    "\n",
    "model_deit = model_deit.to(device)\n",
    "\n",
    "\n",
    "\n",
    "ct = 0\n",
    "for x, y, study, region, file in testLoader:\n",
    "  y_idx = study\n",
    "  \n",
    "  # Get GadCAM\n",
    "  grayscale_cam = get_gradcam(x,y_idx)\n",
    "  \n",
    "  # Get attention map and yhat\n",
    "  attn_map = get_attn(x, y_idx)\n",
    "\n",
    "  # Reverse ImageNet mean & std for CXR\n",
    "  im = x.squeeze(0)\n",
    "  im = im * std[:, None, None] + mean[:, None, None]\n",
    "\n",
    "  # Plot\n",
    "  fig, ax = plt.subplots(1,3, figsize=(10,5))\n",
    "  fig.patch.set_facecolor('white')\n",
    "  ax[0].imshow(im.numpy().transpose(1, 2, 0))\n",
    "  ax[1].imshow(attn_map)\n",
    "  ax[2].imshow(grayscale_cam)\n",
    "\n",
    "  ax[0].set_title('Input')\n",
    "  ax[1].set_title('DeiT-B')\n",
    "  ax[2].set_title('DenseNet121')\n",
    "\n",
    "  [ax[ax_i].axis('off') for ax_i in range(3)]\n",
    "\n",
    "  # Get labels for image\n",
    "  labs = []\n",
    "  for l in range(model_args['n_labels']):\n",
    "    if y[0][l] == 1:\n",
    "      labs.append(model_args['labels'][l])\n",
    "  if len(labs) == 0:\n",
    "    plt.suptitle(file[0][file[0].rfind('/')+1:] + '\\n' + 'No findings')\n",
    "  else:\n",
    "    plt.suptitle(file[0][file[0].rfind('/')+1:] + '\\n' + ', '.join(labs))\n",
    "\n",
    "  # Show plot\n",
    "  fig.tight_layout()\n",
    "  os.makedirs(os.path.join(target_dir,region[0]), exist_ok=True)\n",
    "  plt.savefig(os.path.join(target_dir,region[0], file[0][file[0].rfind('/')+1:]),bbox_inches='tight')\n",
    "  plt.close()\n",
    "\n",
    "  ct += 1\n",
    "  print('\\r{}'.format(ct),end='')\n",
    "  # if ct == 10:\n",
    "  #   break"
   ]
  },
  {
   "cell_type": "markdown",
   "id": "dcd85bc0-0511-47f2-b8a5-832f62e6fa6a",
   "metadata": {},
   "source": [
    "# Test on ImageNet to make sure it's working"
   ]
  },
  {
   "cell_type": "code",
   "execution_count": 66,
   "id": "14c899a1-fd7b-46e6-a3ce-d606aa5e68f0",
   "metadata": {},
   "outputs": [
    {
     "name": "stderr",
     "output_type": "stream",
     "text": [
      "Using cache found in ./export/gaon1/data/zmurphy/transformer-cxr/results/facebookresearch_deit_main\n"
     ]
    },
    {
     "data": {
      "image/png": "[encoded data removed]",
      "text/plain": [
       "<Figure size 432x288 with 1 Axes>"
      ]
     },
     "metadata": {},
     "output_type": "display_data"
    },
    {
     "data": {
      "image/png": "[encoded data removed]",
      "text/plain": [
       "<Figure size 432x288 with 1 Axes>"
      ]
     },
     "metadata": {},
     "output_type": "display_data"
    }
   ],
   "source": [
    "from torchvision import transforms\n",
    "from PIL import Image\n",
    "# DenseNet-121\n",
    "model_dn = torchvision.models.densenet201(pretrained=True)\n",
    "\n",
    "torch.hub.set_dir('.'+'/export/gaon1/data/zmurphy/transformer-cxr/results'.replace('.','_'))\n",
    "model_deit_im = torch.hub.load('facebookresearch/deit:main', 'deit_base_patch16_224', pretrained=True)\n",
    "\n",
    "tfms = transforms.Compose([\n",
    "  transforms.ToTensor(),\n",
    "  transforms.Resize((224,224), transforms.functional.InterpolationMode.BILINEAR),\n",
    "  transforms.Normalize((0.485, 0.456, 0.406), (0.229, 0.224, 0.225))\n",
    "])\n",
    "\n",
    "file_name = 'airplane2'\n",
    "img_raw = Image.open('../google_images/'+file_name+'.jpeg')\n",
    "img = tfms(img_raw).unsqueeze(0)\n",
    "\n",
    "plt.imshow(img_raw)\n",
    "plt.show()\n",
    "grad_rollout = VITAttentionGradRollout(model_deit_im, discard_ratio=0.9)\n",
    "attn_map = grad_rollout(img, category_index=895)\n",
    "attn_map = cv2.resize(attn_map, dsize=img_raw.size)\n",
    "plt.imshow(attn_map)\n",
    "plt.show()\n",
    "\n",
    "# cam = GradCAM(model=model_dn, target_layers=[model_dn.features[-1]], use_cuda=False)\n",
    "\n",
    "# gs = cam(img)\n",
    "# gs = cv2.resize(gs.squeeze(), dsize=img_raw.size)\n",
    "# plt.imshow(img_raw)\n",
    "# plt.show()\n",
    "# plt.imshow(gs)"
   ]
  },
  {
   "cell_type": "code",
   "execution_count": null,
   "id": "e59b6681-99cd-4907-b311-94eaeb69e27a",
   "metadata": {},
   "outputs": [],
   "source": []
  }
 ],
 "metadata": {
  "kernelspec": {
   "display_name": "Python 3",
   "language": "python",
   "name": "python3"
  },
  "language_info": {
   "codemirror_mode": {
    "name": "ipython",
    "version": 3
   },
   "file_extension": ".py",
   "mimetype": "text/x-python",
   "name": "python",
   "nbconvert_exporter": "python",
   "pygments_lexer": "ipython3",
   "version": "3.6.9"
  }
 },
 "nbformat": 4,
 "nbformat_minor": 5
}
